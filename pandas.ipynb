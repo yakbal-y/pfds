{
  "cells": [
    {
      "cell_type": "markdown",
      "id": "132d10ed",
      "metadata": {
        "id": "132d10ed"
      },
      "source": [
        "[![Open in Colab](https://colab.research.google.com/assets/colab-badge.svg)](https://colab.research.google.com/github/yakbal-y/pfds/blob/main/pandas.ipynb)"
      ]
    },
    {
      "cell_type": "code",
      "execution_count": 84,
      "id": "32bde22e",
      "metadata": {
        "id": "32bde22e"
      },
      "outputs": [],
      "source": [
        "#### Run this cell as this cell will download some necessary files for your exercises.\n",
        "### Run the following function, do not change any line of it.\n",
        "import requests\n",
        "import pandas as pd\n",
        "def download_text():\n",
        "    data_url1 = \"https://raw.githubusercontent.com/yakbal-y/ds/main/tsfinal02.csv\"\n",
        "    text1 = requests.get(data_url1, allow_redirects=True)\n",
        "    with open(\"data_set_.csv\",\"wb\") as file:\n",
        "        file.write(text1.content)"
      ]
    },
    {
      "cell_type": "code",
      "source": [
        "download_text()"
      ],
      "metadata": {
        "id": "fhLB2Vc27YLO"
      },
      "id": "fhLB2Vc27YLO",
      "execution_count": 85,
      "outputs": []
    },
    {
      "cell_type": "code",
      "source": [
        "data = pd.read_csv(\"data_set_.csv\")[\"Feature_1\"]"
      ],
      "metadata": {
        "id": "ga03sODm7cJk"
      },
      "id": "ga03sODm7cJk",
      "execution_count": 131,
      "outputs": []
    }
  ],
  "metadata": {
    "kernelspec": {
      "display_name": "Python 3 (ipykernel)",
      "language": "python",
      "name": "python3"
    },
    "language_info": {
      "codemirror_mode": {
        "name": "ipython",
        "version": 3
      },
      "file_extension": ".py",
      "mimetype": "text/x-python",
      "name": "python",
      "nbconvert_exporter": "python",
      "pygments_lexer": "ipython3",
      "version": "3.9.13"
    },
    "colab": {
      "provenance": []
    }
  },
  "nbformat": 4,
  "nbformat_minor": 5
}