{
  "cells": [
    {
      "cell_type": "markdown",
      "id": "42bd7f17",
      "metadata": {
        "id": "42bd7f17"
      },
      "source": [
        "[![Open in Colab](https://colab.research.google.com/assets/colab-badge.svg)](https://colab.research.google.com/github/yakbal-y/pfds/blob/main/heron.ipynb)"
      ]
    },
    {
      "cell_type": "code",
      "source": [
        "def function(s, n_iter = 1000):\n",
        "  ## your code here\n",
        "  pass"
      ],
      "metadata": {
        "id": "LvVyX1Bc2zbS"
      },
      "id": "LvVyX1Bc2zbS",
      "execution_count": null,
      "outputs": []
    }
  ],
  "metadata": {
    "colab": {
      "provenance": []
    },
    "kernelspec": {
      "display_name": "Python 3 (ipykernel)",
      "language": "python",
      "name": "python3"
    },
    "language_info": {
      "codemirror_mode": {
        "name": "ipython",
        "version": 3
      },
      "file_extension": ".py",
      "mimetype": "text/x-python",
      "name": "python",
      "nbconvert_exporter": "python",
      "pygments_lexer": "ipython3",
      "version": "3.9.12"
    }
  },
  "nbformat": 4,
  "nbformat_minor": 5
}
