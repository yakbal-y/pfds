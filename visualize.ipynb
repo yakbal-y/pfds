{
 "cells": [
  {
   "cell_type": "markdown",
   "id": "1c52647f",
   "metadata": {},
   "source": [
    "[![Open in Colab](https://colab.research.google.com/assets/colab-badge.svg)](https://colab.research.google.com/github/yakbal-y/pfds/blob/main/visualize.ipynb)"
   ]
  },
  {
   "cell_type": "code",
   "execution_count": 1,
   "id": "9517a229",
   "metadata": {},
   "outputs": [],
   "source": [
    "import numpy as np\n",
    "import scipy as sp\n",
    "import pandas as pd\n",
    "import seaborn\n",
    "from sklearn.decomposition import PCA\n",
    "from matplotlib import pyplot as plt"
   ]
  },
  {
   "cell_type": "markdown",
   "id": "f7cf9878",
   "metadata": {},
   "source": [
    "### The following function will give you your dataset where futures are of dimension two and classes labelled as 1, 2, 3."
   ]
  },
  {
   "cell_type": "code",
   "execution_count": 2,
   "id": "a8aabd7d",
   "metadata": {},
   "outputs": [],
   "source": [
    "def return_dataset():\n",
    "    dataset = seaborn.load_dataset(\"iris\")\n",
    "    classes = {j:i+1 for i,j in enumerate(dataset.species.unique())}\n",
    "    convert = lambda x: classes[x]\n",
    "    dataset[\"species\"] = dataset[\"species\"].apply(convert)\n",
    "    X = dataset.iloc[:,:-1]\n",
    "    y = dataset.iloc[:, -1]\n",
    "    pca = PCA(2)\n",
    "    X = pca.fit_transform(X)\n",
    "    print(f\"The unique classes are {dataset.species.unique()}\")\n",
    "    return np.array(X), np.array(y)"
   ]
  },
  {
   "cell_type": "code",
   "execution_count": null,
   "id": "98d1035a",
   "metadata": {},
   "outputs": [],
   "source": [
    "### Run the next cell to grab your dataset\n",
    "X, y = return_dataset()"
   ]
  }
 ],
 "metadata": {
  "kernelspec": {
   "display_name": "Python 3 (ipykernel)",
   "language": "python",
   "name": "python3"
  },
  "language_info": {
   "codemirror_mode": {
    "name": "ipython",
    "version": 3
   },
   "file_extension": ".py",
   "mimetype": "text/x-python",
   "name": "python",
   "nbconvert_exporter": "python",
   "pygments_lexer": "ipython3",
   "version": "3.9.13"
  }
 },
 "nbformat": 4,
 "nbformat_minor": 5
}
