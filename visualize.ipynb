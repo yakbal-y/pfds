{
  "cells": [
    {
      "attachments": {},
      "cell_type": "markdown",
      "id": "1c52647f",
      "metadata": {
        "id": "1c52647f"
      },
      "source": [
        "[![Open in Colab](https://colab.research.google.com/assets/colab-badge.svg)](https://colab.research.google.com/github/yakbal-y/pfds/blob/main/visualize.ipynb)"
      ]
    },
    {
      "cell_type": "code",
      "execution_count": 1,
      "id": "9517a229",
      "metadata": {
        "id": "9517a229"
      },
      "outputs": [],
      "source": [
        "import numpy as np\n",
        "import scipy as sp\n",
        "import pandas as pd\n",
        "import seaborn\n",
        "from sklearn.decomposition import PCA\n",
        "from matplotlib import pyplot as plt"
      ]
    },
    {
      "cell_type": "code",
      "execution_count": 38,
      "id": "a8aabd7d",
      "metadata": {
        "id": "a8aabd7d"
      },
      "outputs": [],
      "source": [
        "def return_dataset():\n",
        "    dataset = seaborn.load_dataset(\"penguins\")\n",
        "    dataset.dropna(inplace = True)\n",
        "    X = dataset.iloc[:, 2:-1]\n",
        "    y = dataset.iloc[:, 0]\n",
        "    pca = PCA(2)\n",
        "    X = pca.fit_transform(X)\n",
        "    return np.array(X), y"
      ]
    },
    {
      "cell_type": "code",
      "execution_count": 39,
      "id": "98d1035a",
      "metadata": {
        "id": "98d1035a"
      },
      "outputs": [],
      "source": [
        "### Run the next cell to grab your dataset\n",
        "X, y = return_dataset()\n",
        "###  See what species are there ? by looking at the array."
      ]
    }
  ],
  "metadata": {
    "colab": {
      "provenance": []
    },
    "kernelspec": {
      "display_name": "Python 3 (ipykernel)",
      "language": "python",
      "name": "python3"
    },
    "language_info": {
      "codemirror_mode": {
        "name": "ipython",
        "version": 3
      },
      "file_extension": ".py",
      "mimetype": "text/x-python",
      "name": "python",
      "nbconvert_exporter": "python",
      "pygments_lexer": "ipython3",
      "version": "3.9.13"
    }
  },
  "nbformat": 4,
  "nbformat_minor": 5
}
