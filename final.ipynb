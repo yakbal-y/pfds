{
  "cells": [
    {
      "cell_type": "code",
      "execution_count": null,
      "id": "e0b13304",
      "metadata": {
        "id": "e0b13304"
      },
      "outputs": [],
      "source": [
        "import matplotlib.pyplot as plt\n",
        "import numpy as np\n",
        "import scipy\n",
        "from scipy import stats"
      ]
    },
    {
      "cell_type": "markdown",
      "id": "42bd7f17",
      "metadata": {
        "id": "42bd7f17"
      },
      "source": [
        "[![Open in Colab](https://colab.research.google.com/assets/colab-badge.svg)](https://colab.research.google.com/github/yakbal-y/pfds/blob/main/exam/final.ipynb)"
      ]
    },
    {
      "cell_type": "markdown",
      "id": "m6Q5JuGxP6P8",
      "metadata": {
        "id": "m6Q5JuGxP6P8"
      },
      "source": [
        "[Link to exam](https://www.youtube.com/watch?v=aCqWX1itCto)"
      ]
    }
  ],
  "metadata": {
    "colab": {
      "provenance": []
    },
    "kernelspec": {
      "display_name": "Python 3 (ipykernel)",
      "language": "python",
      "name": "python3"
    },
    "language_info": {
      "codemirror_mode": {
        "name": "ipython",
        "version": 3
      },
      "file_extension": ".py",
      "mimetype": "text/x-python",
      "name": "python",
      "nbconvert_exporter": "python",
      "pygments_lexer": "ipython3",
      "version": "3.9.12"
    }
  },
  "nbformat": 4,
  "nbformat_minor": 5
}